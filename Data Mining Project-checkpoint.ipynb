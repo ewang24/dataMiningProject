{
 "cells": [
  {
   "cell_type": "markdown",
   "metadata": {},
   "source": [
    "## Step 1"
   ]
  },
  {
   "cell_type": "code",
   "execution_count": 20,
   "metadata": {
    "collapsed": true
   },
   "outputs": [],
   "source": [
    "'''\n",
    "Logan Gill\n",
    "Evan Wang\n",
    "Serena Yang\n",
    "Zach Young\n",
    "'''\n",
    "import numpy as np \n",
    "import matplotlib.pyplot as plt\n",
    "%matplotlib inline\n",
    "import numpy\n",
    "import sklearn\n",
    "import hashlib\n",
    "\n",
    "#Attribute Information:\n",
    "# \t 1.\tlettr\tcapital letter\t(26 values from A to Z)\n",
    "# \t 2.\tx-box\thorizontal position of box\t(integer)\n",
    "# \t 3.\ty-box\tvertical position of box\t(integer)\n",
    "# \t 4.\twidth\twidth of box\t\t\t(integer)\n",
    "# \t 5.\thigh \theight of box\t\t\t(integer)\n",
    "# \t 6.\tonpix\ttotal # on pixels\t\t(integer)\n",
    "# \t 7.\tx-bar\tmean x of on pixels in box\t(integer)\n",
    "# \t 8.\ty-bar\tmean y of on pixels in box\t(integer)\n",
    "# \t 9.\tx2bar\tmean x variance\t\t\t(integer)\n",
    "# \t10.\ty2bar\tmean y variance\t\t\t(integer)\n",
    "# \t11.\txybar\tmean x y correlation\t\t(integer)\n",
    "# \t12.\tx2ybr\tmean of x * x * y\t\t(integer)\n",
    "# \t13.\txy2br\tmean of x * y * y\t\t(integer)\n",
    "# \t14.\tx-ege\tmean edge count left to right\t(integer)\n",
    "# \t15.\txegvy\tcorrelation of x-ege with y\t(integer)\n",
    "# \t16.\ty-ege\tmean edge count bottom to top\t(integer)\n",
    "# \t17.\tyegvx\tcorrelation of y-ege with x\t(integer)"
   ]
  },
  {
   "cell_type": "code",
   "execution_count": 21,
   "metadata": {},
   "outputs": [
    {
     "name": "stdout",
     "output_type": "stream",
     "text": [
      "This first boxplot is the boxplot with outliers included, the second boxplot has outliers removed\n",
      "\n",
      "To choose which outliers to remove we calculate three standard-deviations and remove any data points that are beyond\n",
      "3 standard deviations in the dataset\n",
      "There were approximately 1,800 outliers removed from our dataset. The remaining points that are outside of the boxes\n",
      "in the boxplot are still valuable data points because they are within the range of the largest boxplot. If we removed them, we would also lose valuse from inside that larger boxplot.\n",
      "\n"
     ]
    },
    {
     "data": {
      "image/png": "[encoded data removed]",
      "text/plain": [
       "<matplotlib.figure.Figure at 0x17d41f28>"
      ]
     },
     "metadata": {},
     "output_type": "display_data"
    },
    {
     "data": {
      "image/png": "[encoded data removed]",
      "text/plain": [
       "<matplotlib.figure.Figure at 0x1309e710>"
      ]
     },
     "metadata": {},
     "output_type": "display_data"
    }
   ],
   "source": [
    "import sklearn as sk\n",
    "from scipy import stats\n",
    "import graphviz\n",
    "import pandas as pd\n",
    "from sklearn.tree import DecisionTreeClassifier\n",
    "from sklearn.ensemble import RandomForestClassifier\n",
    "from sklearn.ensemble import GradientBoostingClassifier\n",
    "from sklearn.linear_model import LogisticRegression\n",
    "from sklearn.neighbors import KNeighborsClassifier\n",
    "from sklearn.model_selection import GridSearchCV\n",
    "from sklearn.metrics import r2_score, accuracy_score\n",
    "from sklearn.metrics import roc_curve, auc\n",
    "import matplotlib.pyplot as plt\n",
    "from itertools import cycle\n",
    "from sklearn import svm, datasets\n",
    "from sklearn.metrics import roc_curve, auc\n",
    "from sklearn.model_selection import train_test_split\n",
    "from sklearn.preprocessing import label_binarize\n",
    "from sklearn.multiclass import OneVsRestClassifier\n",
    "from scipy import interp\n",
    "from sklearn.metrics import confusion_matrix\n",
    "import itertools\n",
    "\n",
    "#define columns\n",
    "names = ['xbox', 'ybox', 'boxwidth', 'boxheight', 'onpix', 'xbar', 'ybar', 'x2bar', 'y2bar', 'xybar', 'x2ybr', 'xy2br', 'xedge', 'xegvy', 'yedge', 'yegvx']\n",
    "df=pd.read_csv('https://archive.ics.uci.edu/ml/machine-learning-databases/letter-recognition/letter-recognition.data', header = None,\n",
    "              names = ['letter', 'xbox', 'ybox', 'boxwidth', 'boxheight', 'onpix', 'xbar', 'ybar', 'x2bar', 'y2bar', 'xybar', 'x2ybr', 'xy2br', 'xedge', 'xegvy', 'yedge', 'yegvx'])\n",
    "\n",
    "\n",
    "data = df.iloc[:,1:].as_matrix()\n",
    "target = df.iloc[:,0].as_matrix()\n",
    "name = df.columns.values\n",
    "\n",
    "#clean data of outliers by filtering out anything about 1 standard deviation\n",
    "target = target[(np.abs(stats.zscore(data))<3).all(axis=1)]\n",
    "data = data[(np.abs(stats.zscore(data))<3).all(axis=1)]\n",
    "\n",
    "#separate training data\n",
    "trainData = data[0:16000]\n",
    "trainTarget = target[0:16000]\n",
    "\n",
    "#separate test data\n",
    "testData = data[16001:-1]\n",
    "testTarget = target[16001:-1]\n",
    "\n",
    "'''\n",
    "Also generate private data\n",
    "'''\n",
    "\n",
    "print \"This first boxplot is the boxplot with outliers included, the second boxplot has outliers removed\"\n",
    "\n",
    "#display boxplot with outliers\n",
    "df.plot.box(grid=False,figsize=(16,10))\n",
    "\n",
    "#display boxplot with outliers removed\n",
    "cleanDf = pd.DataFrame(trainData, trainTarget)\n",
    "cleanDf.columns = ['xbox', 'ybox', 'boxwidth', 'boxheight', 'onpix', 'xbar', 'ybar', 'x2bar', 'y2bar', 'xybar', 'x2ybr', 'xy2br', 'xedge', 'xegvy', 'yedge', 'yegvx']\n",
    "cleanDf.plot.box(grid=False,figsize=(16,10))\n",
    "\n",
    "\n",
    "print ''\n",
    "print \"To choose which outliers to remove we calculate three standard-deviations and remove any data points that are beyond\"\n",
    "print \"3 standard deviations in the dataset\"\n",
    "print \"There were approximately 1,800 outliers removed from our dataset. The remaining points that are outside of the boxes\"\n",
    "print \"in the boxplot are still valuable data points because they are within the range of the largest boxplot. If we removed them, we would also lose valuse from inside that larger boxplot.\\n\"\n",
    "\n"
   ]
  },
  {
   "cell_type": "markdown",
   "metadata": {},
   "source": [
    "## Step 2\n",
    "### Running five different algorithms and finding the best one"
   ]
  },
  {
   "cell_type": "code",
   "execution_count": 22,
   "metadata": {},
   "outputs": [
    {
     "name": "stdout",
     "output_type": "stream",
     "text": [
      "The best model was a random forest classifier with n_estimators = 30, criterion = 'gini' and no max_depth. The accuracy was  0.954022988506\n"
     ]
    }
   ],
   "source": [
    "algorithms=[DecisionTreeClassifier(),RandomForestClassifier(),GradientBoostingClassifier(),LogisticRegression(),KNeighborsClassifier()]\n",
    "parameters = [{'criterion':['gini','entropy'],'max_depth':[None,5,10,50]},{'criterion':['gini','entropy'],'n_estimators':[5,20,30],'max_depth':[None,3]},\n",
    "             {'n_estimators':[25,50],'max_depth':[2,3]},{'penalty':['l1','l2'],'fit_intercept':[True,False],'max_iter':[100,50,200]},\n",
    "             {'n_neighbors':[5,10,20],'p':[1,2,3]}]\n",
    "\n",
    "'''\n",
    "Commented out because it takes forever to run, but this is how we find the best model which ends up being random forest\n",
    "with the parameters shown below.\n",
    "'''\n",
    "# for algorithm, parameters in zip(algorithms,parameters):\n",
    "#     classify=GridSearchCV(algorithm,parameters,cv=5,verbose=1)\n",
    "#     classify.fit(data,target)\n",
    "#     print classify.best_params_\n",
    "#     print classify.best_score_\n",
    "\n",
    "clf = RandomForestClassifier(n_estimators=30,criterion = 'gini',max_depth = None)\n",
    "clf.fit(trainData,trainTarget)\n",
    "yhat = clf.predict(testData)\n",
    "accuracy = accuracy_score(testTarget,yhat)\n",
    "print \"The best model was a random forest classifier with n_estimators = 30, criterion = 'gini' and no max_depth. The accuracy was \",accuracy"
   ]
  },
  {
   "cell_type": "markdown",
   "metadata": {},
   "source": [
    "## Evaluation\n",
    "### ROC for Random Forest Classifier"
   ]
  },
  {
   "cell_type": "code",
   "execution_count": 23,
   "metadata": {
    "scrolled": false
   },
   "outputs": [
    {
     "name": "stdout",
     "output_type": "stream",
     "text": [
      "[[0 0 0 ..., 0 0 0]\n",
      " [0 0 0 ..., 0 0 0]\n",
      " [0 0 0 ..., 0 0 0]\n",
      " ..., \n",
      " [0 0 0 ..., 0 0 0]\n",
      " [0 0 0 ..., 0 0 0]\n",
      " [1 0 0 ..., 0 0 0]]\n",
      "1\n",
      "2\n",
      "3\n",
      "4\n",
      "5\n"
     ]
    },
    {
     "data": {
      "image/png": "[encoded data removed]",
      "text/plain": [
       "<matplotlib.figure.Figure at 0x1d7cf518>"
      ]
     },
     "metadata": {},
     "output_type": "display_data"
    }
   ],
   "source": [
    "\n",
    "import numpy as np\n",
    "import matplotlib.pyplot as plt\n",
    "from itertools import cycle\n",
    "\n",
    "from sklearn import svm, datasets\n",
    "from sklearn.metrics import roc_curve, auc\n",
    "from sklearn.model_selection import train_test_split\n",
    "from sklearn.preprocessing import label_binarize\n",
    "from sklearn.multiclass import OneVsRestClassifier\n",
    "from scipy import interp\n",
    "\n",
    "# Import some data to play with\n",
    "\n",
    "\n",
    "# Binarize the output\n",
    "y = label_binarize(target,classes=list(set(target)))\n",
    "n_classes = y.shape[1]\n",
    "print y\n",
    "\n",
    "X = data\n",
    "\n",
    "# shuffle and split training and test sets\n",
    "X_train, X_test, y_train, y_test = train_test_split(X, y, test_size=.5,\n",
    "                                                    random_state=0)\n",
    "print '1'\n",
    "\n",
    "# Learn to predict each class against the other\n",
    "classifier = OneVsRestClassifier(clf)\n",
    "y_score = classifier.fit(X_train, y_train).predict(X_test)\n",
    "\n",
    "print '2'\n",
    "# Compute ROC curve and ROC area for each class\n",
    "fpr = dict()\n",
    "tpr = dict()\n",
    "roc_auc = dict()\n",
    "for i in range(n_classes):\n",
    "    fpr[i], tpr[i], _ = roc_curve(y_test[:, i], y_score[:, i])\n",
    "    roc_auc[i] = auc(fpr[i], tpr[i])\n",
    "\n",
    "print '3'\n",
    "# Compute micro-average ROC curve and ROC area\n",
    "fpr[\"micro\"], tpr[\"micro\"], _ = roc_curve(y_test.ravel(), y_score.ravel())\n",
    "roc_auc[\"micro\"] = auc(fpr[\"micro\"], tpr[\"micro\"])\n",
    "\n",
    "\n",
    "#`````````````````\n",
    "\n",
    "# Compute macro-average ROC curve and ROC area\n",
    "\n",
    "#linewidth\n",
    "lw=2\n",
    "\n",
    "# Collect all false positive rates\n",
    "all_fpr = np.unique(np.concatenate([fpr[i] for i in range(n_classes)]))\n",
    "\n",
    "# Collect all ROC values for the points\n",
    "mean_tpr = np.zeros_like(all_fpr)\n",
    "for i in range(n_classes):\n",
    "    mean_tpr += interp(all_fpr, fpr[i], tpr[i])\n",
    "\n",
    "# Average all ROC values to generate AUC value.\n",
    "mean_tpr /= n_classes\n",
    "\n",
    "fpr[\"macro\"] = all_fpr\n",
    "tpr[\"macro\"] = mean_tpr\n",
    "roc_auc[\"macro\"] = auc(fpr[\"macro\"], tpr[\"macro\"])\n",
    "print '4'\n",
    "\n",
    "'''\n",
    "Per sklearn documentation:\n",
    "\n",
    "One ROC curve can be drawn per label,\n",
    "but one can also draw a ROC curve by considering each element of the label indicator matrix as a binary prediction (micro-averaging)\n",
    "\n",
    "Another evaluation measure for multi-class classification is macro-averaging, which gives equal weight to the classification of each label.\n",
    "\n",
    "'''\n",
    "\n",
    "# Plot the micro and macro averages of the ROC curves.\n",
    "plt.figure(figsize=(20,20))\n",
    "plt.plot(fpr[\"micro\"], tpr[\"micro\"],\n",
    "         label='micro-average ROC curve (area = {0:0.2f})'\n",
    "               ''.format(roc_auc[\"micro\"]),\n",
    "         color='deeppink', linestyle=':', linewidth=4)\n",
    "\n",
    "plt.plot(fpr[\"macro\"], tpr[\"macro\"],\n",
    "         label='macro-average ROC curve (area = {0:0.2f})'\n",
    "               ''.format(roc_auc[\"macro\"]),\n",
    "         color='navy', linestyle=':', linewidth=4)\n",
    "\n",
    "#For plotting roc lines for all classes, which is a bit of a mess. \n",
    "# colors = cycle(['aqua', 'darkorange', 'cornflowerblue','purple','green','blue','pink','brown','red','lightblue','teal','orange','lightgreen','magenta','yellow','skyblue','grey','limegreen','maroon','violet','darkgreen','turquoise','lavender','darkblue','tan','cyan'])\n",
    "# for i, color in zip(range(n_classes), colors):\n",
    "#     plt.plot(fpr[i], tpr[i], color=color, lw=lw,\n",
    "#              label='ROC curve of class {0} (area = {1:0.2f})'\n",
    "#              ''.format(i, roc_auc[i]))\n",
    "\n",
    "print '5'\n",
    "plt.plot([0, 1], [0, 1], 'k--', lw=lw)\n",
    "plt.xlim([0.0, 1.0])\n",
    "plt.ylim([0.0, 1.05])\n",
    "plt.xlabel('False Positive Rate')\n",
    "plt.ylabel('True Positive Rate')\n",
    "plt.title('ROC for letter classification problem (micro/macro averages)')\n",
    "plt.legend(loc=\"lower right\")\n",
    "plt.show()\n"
   ]
  },
  {
   "cell_type": "markdown",
   "metadata": {},
   "source": [
    "## Four visualizations"
   ]
  },
  {
   "cell_type": "markdown",
   "metadata": {},
   "source": [
    "### boxplot of feature distributions"
   ]
  },
  {
   "cell_type": "code",
   "execution_count": 25,
   "metadata": {
    "scrolled": true
   },
   "outputs": [
    {
     "data": {
      "text/html": [
       "<script>requirejs.config({paths: { 'plotly': ['https://cdn.plot.ly/plotly-latest.min']},});if(!window.Plotly) {{require(['plotly'],function(plotly) {window.Plotly=plotly;});}}</script>"
      ],
      "text/vnd.plotly.v1+html": [
       "<script>requirejs.config({paths: { 'plotly': ['https://cdn.plot.ly/plotly-latest.min']},});if(!window.Plotly) {{require(['plotly'],function(plotly) {window.Plotly=plotly;});}}</script>"
      ]
     },
     "metadata": {},
     "output_type": "display_data"
    },
    {
     "data": {
      "application/vnd.plotly.v1+json": {
       "data": [
        {
         "line": {
          "width": 1
         },
         "marker": {
          "size": 2
         },
         "name": "xbox",
         "type": "box",
         "whiskerwidth": 0.2,
         "y": [
          2,
          8,
          3,
          5,
          1,
          8,
          13,
          0,
          6,
          6,
          10,
          8,
          0,
          8,
          0,
          8
         ]
        },
        {
         "line": {
          "width": 1
         },
         "marker": {
          "size": 2
         },
         "name": "ybox",
         "type": "box",
         "whiskerwidth": 0.2,
         "y": [
          5,
          12,
          3,
          7,
          2,
          10,
          5,
          5,
          4,
          13,
          3,
          9,
          2,
          8,
          4,
          10
         ]
        },
        {
         "line": {
          "width": 1
         },
         "marker": {
          "size": 2
         },
         "name": "boxwidth",
         "type": "box",
         "whiskerwidth": 0.2,
         "y": [
          4,
          11,
          6,
          8,
          6,
          10,
          6,
          2,
          6,
          10,
          3,
          7,
          3,
          7,
          3,
          9
         ]
        },
        {
         "line": {
          "width": 1
         },
         "marker": {
          "size": 2
         },
         "name": "boxheight",
         "type": "box",
         "whiskerwidth": 0.2,
         "y": [
          7,
          11,
          6,
          6,
          3,
          5,
          9,
          4,
          6,
          4,
          4,
          10,
          6,
          10,
          2,
          8
         ]
        },
        {
         "line": {
          "width": 1
         },
         "marker": {
          "size": 2
         },
         "name": "onpix",
         "type": "box",
         "whiskerwidth": 0.2,
         "y": [
          2,
          1,
          3,
          1,
          1,
          8,
          6,
          6,
          6,
          6,
          5,
          9,
          1,
          7,
          5,
          10
         ]
        },
        {
         "line": {
          "width": 1
         },
         "marker": {
          "size": 2
         },
         "name": "xbar",
         "type": "box",
         "whiskerwidth": 0.2,
         "y": [
          4,
          11,
          5,
          8,
          3,
          8,
          8,
          6,
          9,
          5,
          6,
          6,
          0,
          8,
          9,
          7
         ]
        },
        {
         "line": {
          "width": 1
         },
         "marker": {
          "size": 2
         },
         "name": "ybar",
         "type": "box",
         "whiskerwidth": 0.2,
         "y": [
          4,
          2,
          5,
          4,
          4,
          8,
          7,
          6,
          6,
          7,
          6,
          6,
          2,
          8,
          7,
          10
         ]
        },
        {
         "line": {
          "width": 1
         },
         "marker": {
          "size": 2
         },
         "name": "x2bar",
         "type": "box",
         "whiskerwidth": 0.2,
         "y": [
          1,
          1,
          3,
          2,
          1,
          8,
          2,
          2,
          2,
          8,
          2,
          8,
          1,
          6,
          2,
          7
         ]
        },
        {
         "line": {
          "width": 1
         },
         "marker": {
          "size": 2
         },
         "name": "y2bar",
         "type": "box",
         "whiskerwidth": 0.2,
         "y": [
          2,
          2,
          4,
          4,
          2,
          10,
          6,
          2,
          6,
          12,
          4,
          8,
          1,
          6,
          1,
          7
         ]
        },
        {
         "line": {
          "width": 1
         },
         "marker": {
          "size": 2
         },
         "name": "xybar",
         "type": "box",
         "whiskerwidth": 0.2,
         "y": [
          3,
          9,
          5,
          7,
          4,
          8,
          7,
          3,
          8,
          5,
          6,
          8,
          2,
          8,
          6,
          7
         ]
        },
        {
         "line": {
          "width": 1
         },
         "marker": {
          "size": 2
         },
         "name": "x2ybr",
         "type": "box",
         "whiskerwidth": 0.2,
         "y": [
          6,
          13,
          4,
          7,
          4,
          6,
          7,
          6,
          3,
          10,
          7,
          9,
          5,
          9,
          5,
          8
         ]
        },
        {
         "line": {
          "width": 1
         },
         "marker": {
          "size": 2
         },
         "name": "xy2br",
         "type": "box",
         "whiskerwidth": 0.2,
         "y": [
          4,
          9,
          6,
          7,
          6,
          7,
          8,
          6,
          2,
          6,
          5,
          11,
          4,
          8,
          7,
          8
         ]
        },
        {
         "line": {
          "width": 1
         },
         "marker": {
          "size": 2
         },
         "name": "xedge",
         "type": "box",
         "whiskerwidth": 0.2,
         "y": [
          6,
          9,
          8,
          6,
          9,
          7,
          8,
          6,
          5,
          7,
          5,
          8,
          8,
          9,
          8,
          6
         ]
        },
        {
         "line": {
          "width": 1
         },
         "marker": {
          "size": 2
         },
         "name": "xegvy",
         "type": "box",
         "whiskerwidth": 0.2,
         "y": [
          5,
          9,
          5,
          7,
          6,
          6,
          11,
          7,
          3,
          7,
          3,
          9,
          2,
          7,
          5,
          11
         ]
        },
        {
         "line": {
          "width": 1
         },
         "marker": {
          "size": 2
         },
         "name": "yedge",
         "type": "box",
         "whiskerwidth": 0.2,
         "y": [
          6,
          9,
          5,
          4,
          3,
          10,
          6,
          3,
          5,
          10,
          5,
          7,
          3,
          9,
          6,
          9
         ]
        },
        {
         "line": {
          "width": 1
         },
         "marker": {
          "size": 2
         },
         "name": "yegvx",
         "type": "box",
         "whiskerwidth": 0.2,
         "y": [
          3,
          4,
          4,
          3,
          2,
          8,
          7,
          7,
          5,
          7,
          6,
          8,
          2,
          8,
          3,
          8
         ]
        }
       ],
       "layout": {
        "margin": {
         "b": 80,
         "l": 40,
         "r": 30,
         "t": 100
        },
        "title": "Distributions of features",
        "yaxis": {
         "autorange": true,
         "dtick": 5,
         "showgrid": true,
         "zeroline": true
        }
       }
      },
      "text/html": [
       "<div id=\"213b5c5f-a587-4ddc-b7fb-6ea2a05bf4cf\" style=\"height: 525px; width: 100%;\" class=\"plotly-graph-div\"></div><script type=\"text/javascript\">require([\"plotly\"], function(Plotly) { window.PLOTLYENV=window.PLOTLYENV || {};window.PLOTLYENV.BASE_URL=\"https://plot.ly\";Plotly.newPlot(\"213b5c5f-a587-4ddc-b7fb-6ea2a05bf4cf\", [{\"name\": \"xbox\", \"marker\": {\"size\": 2}, \"y\": [2, 8, 3, 5, 1, 8, 13, 0, 6, 6, 10, 8, 0, 8, 0, 8], \"line\": {\"width\": 1}, \"type\": \"box\", \"whiskerwidth\": 0.2}, {\"name\": \"ybox\", \"marker\": {\"size\": 2}, \"y\": [5, 12, 3, 7, 2, 10, 5, 5, 4, 13, 3, 9, 2, 8, 4, 10], \"line\": {\"width\": 1}, \"type\": \"box\", \"whiskerwidth\": 0.2}, {\"name\": \"boxwidth\", \"marker\": {\"size\": 2}, \"y\": [4, 11, 6, 8, 6, 10, 6, 2, 6, 10, 3, 7, 3, 7, 3, 9], \"line\": {\"width\": 1}, \"type\": \"box\", \"whiskerwidth\": 0.2}, {\"name\": \"boxheight\", \"marker\": {\"size\": 2}, \"y\": [7, 11, 6, 6, 3, 5, 9, 4, 6, 4, 4, 10, 6, 10, 2, 8], \"line\": {\"width\": 1}, \"type\": \"box\", \"whiskerwidth\": 0.2}, {\"name\": \"onpix\", \"marker\": {\"size\": 2}, \"y\": [2, 1, 3, 1, 1, 8, 6, 6, 6, 6, 5, 9, 1, 7, 5, 10], \"line\": {\"width\": 1}, \"type\": \"box\", \"whiskerwidth\": 0.2}, {\"name\": \"xbar\", \"marker\": {\"size\": 2}, \"y\": [4, 11, 5, 8, 3, 8, 8, 6, 9, 5, 6, 6, 0, 8, 9, 7], \"line\": {\"width\": 1}, \"type\": \"box\", \"whiskerwidth\": 0.2}, {\"name\": \"ybar\", \"marker\": {\"size\": 2}, \"y\": [4, 2, 5, 4, 4, 8, 7, 6, 6, 7, 6, 6, 2, 8, 7, 10], \"line\": {\"width\": 1}, \"type\": \"box\", \"whiskerwidth\": 0.2}, {\"name\": \"x2bar\", \"marker\": {\"size\": 2}, \"y\": [1, 1, 3, 2, 1, 8, 2, 2, 2, 8, 2, 8, 1, 6, 2, 7], \"line\": {\"width\": 1}, \"type\": \"box\", \"whiskerwidth\": 0.2}, {\"name\": \"y2bar\", \"marker\": {\"size\": 2}, \"y\": [2, 2, 4, 4, 2, 10, 6, 2, 6, 12, 4, 8, 1, 6, 1, 7], \"line\": {\"width\": 1}, \"type\": \"box\", \"whiskerwidth\": 0.2}, {\"name\": \"xybar\", \"marker\": {\"size\": 2}, \"y\": [3, 9, 5, 7, 4, 8, 7, 3, 8, 5, 6, 8, 2, 8, 6, 7], \"line\": {\"width\": 1}, \"type\": \"box\", \"whiskerwidth\": 0.2}, {\"name\": \"x2ybr\", \"marker\": {\"size\": 2}, \"y\": [6, 13, 4, 7, 4, 6, 7, 6, 3, 10, 7, 9, 5, 9, 5, 8], \"line\": {\"width\": 1}, \"type\": \"box\", \"whiskerwidth\": 0.2}, {\"name\": \"xy2br\", \"marker\": {\"size\": 2}, \"y\": [4, 9, 6, 7, 6, 7, 8, 6, 2, 6, 5, 11, 4, 8, 7, 8], \"line\": {\"width\": 1}, \"type\": \"box\", \"whiskerwidth\": 0.2}, {\"name\": \"xedge\", \"marker\": {\"size\": 2}, \"y\": [6, 9, 8, 6, 9, 7, 8, 6, 5, 7, 5, 8, 8, 9, 8, 6], \"line\": {\"width\": 1}, \"type\": \"box\", \"whiskerwidth\": 0.2}, {\"name\": \"xegvy\", \"marker\": {\"size\": 2}, \"y\": [5, 9, 5, 7, 6, 6, 11, 7, 3, 7, 3, 9, 2, 7, 5, 11], \"line\": {\"width\": 1}, \"type\": \"box\", \"whiskerwidth\": 0.2}, {\"name\": \"yedge\", \"marker\": {\"size\": 2}, \"y\": [6, 9, 5, 4, 3, 10, 6, 3, 5, 10, 5, 7, 3, 9, 6, 9], \"line\": {\"width\": 1}, \"type\": \"box\", \"whiskerwidth\": 0.2}, {\"name\": \"yegvx\", \"marker\": {\"size\": 2}, \"y\": [3, 4, 4, 3, 2, 8, 7, 7, 5, 7, 6, 8, 2, 8, 3, 8], \"line\": {\"width\": 1}, \"type\": \"box\", \"whiskerwidth\": 0.2}], {\"title\": \"Distributions of features\", \"margin\": {\"r\": 30, \"b\": 80, \"t\": 100, \"l\": 40}, \"yaxis\": {\"zeroline\": true, \"autorange\": true, \"dtick\": 5, \"showgrid\": true}}, {\"linkText\": \"Export to plot.ly\", \"showLink\": true})});</script>"
      ],
      "text/vnd.plotly.v1+html": [
       "<div id=\"213b5c5f-a587-4ddc-b7fb-6ea2a05bf4cf\" style=\"height: 525px; width: 100%;\" class=\"plotly-graph-div\"></div><script type=\"text/javascript\">require([\"plotly\"], function(Plotly) { window.PLOTLYENV=window.PLOTLYENV || {};window.PLOTLYENV.BASE_URL=\"https://plot.ly\";Plotly.newPlot(\"213b5c5f-a587-4ddc-b7fb-6ea2a05bf4cf\", [{\"name\": \"xbox\", \"marker\": {\"size\": 2}, \"y\": [2, 8, 3, 5, 1, 8, 13, 0, 6, 6, 10, 8, 0, 8, 0, 8], \"line\": {\"width\": 1}, \"type\": \"box\", \"whiskerwidth\": 0.2}, {\"name\": \"ybox\", \"marker\": {\"size\": 2}, \"y\": [5, 12, 3, 7, 2, 10, 5, 5, 4, 13, 3, 9, 2, 8, 4, 10], \"line\": {\"width\": 1}, \"type\": \"box\", \"whiskerwidth\": 0.2}, {\"name\": \"boxwidth\", \"marker\": {\"size\": 2}, \"y\": [4, 11, 6, 8, 6, 10, 6, 2, 6, 10, 3, 7, 3, 7, 3, 9], \"line\": {\"width\": 1}, \"type\": \"box\", \"whiskerwidth\": 0.2}, {\"name\": \"boxheight\", \"marker\": {\"size\": 2}, \"y\": [7, 11, 6, 6, 3, 5, 9, 4, 6, 4, 4, 10, 6, 10, 2, 8], \"line\": {\"width\": 1}, \"type\": \"box\", \"whiskerwidth\": 0.2}, {\"name\": \"onpix\", \"marker\": {\"size\": 2}, \"y\": [2, 1, 3, 1, 1, 8, 6, 6, 6, 6, 5, 9, 1, 7, 5, 10], \"line\": {\"width\": 1}, \"type\": \"box\", \"whiskerwidth\": 0.2}, {\"name\": \"xbar\", \"marker\": {\"size\": 2}, \"y\": [4, 11, 5, 8, 3, 8, 8, 6, 9, 5, 6, 6, 0, 8, 9, 7], \"line\": {\"width\": 1}, \"type\": \"box\", \"whiskerwidth\": 0.2}, {\"name\": \"ybar\", \"marker\": {\"size\": 2}, \"y\": [4, 2, 5, 4, 4, 8, 7, 6, 6, 7, 6, 6, 2, 8, 7, 10], \"line\": {\"width\": 1}, \"type\": \"box\", \"whiskerwidth\": 0.2}, {\"name\": \"x2bar\", \"marker\": {\"size\": 2}, \"y\": [1, 1, 3, 2, 1, 8, 2, 2, 2, 8, 2, 8, 1, 6, 2, 7], \"line\": {\"width\": 1}, \"type\": \"box\", \"whiskerwidth\": 0.2}, {\"name\": \"y2bar\", \"marker\": {\"size\": 2}, \"y\": [2, 2, 4, 4, 2, 10, 6, 2, 6, 12, 4, 8, 1, 6, 1, 7], \"line\": {\"width\": 1}, \"type\": \"box\", \"whiskerwidth\": 0.2}, {\"name\": \"xybar\", \"marker\": {\"size\": 2}, \"y\": [3, 9, 5, 7, 4, 8, 7, 3, 8, 5, 6, 8, 2, 8, 6, 7], \"line\": {\"width\": 1}, \"type\": \"box\", \"whiskerwidth\": 0.2}, {\"name\": \"x2ybr\", \"marker\": {\"size\": 2}, \"y\": [6, 13, 4, 7, 4, 6, 7, 6, 3, 10, 7, 9, 5, 9, 5, 8], \"line\": {\"width\": 1}, \"type\": \"box\", \"whiskerwidth\": 0.2}, {\"name\": \"xy2br\", \"marker\": {\"size\": 2}, \"y\": [4, 9, 6, 7, 6, 7, 8, 6, 2, 6, 5, 11, 4, 8, 7, 8], \"line\": {\"width\": 1}, \"type\": \"box\", \"whiskerwidth\": 0.2}, {\"name\": \"xedge\", \"marker\": {\"size\": 2}, \"y\": [6, 9, 8, 6, 9, 7, 8, 6, 5, 7, 5, 8, 8, 9, 8, 6], \"line\": {\"width\": 1}, \"type\": \"box\", \"whiskerwidth\": 0.2}, {\"name\": \"xegvy\", \"marker\": {\"size\": 2}, \"y\": [5, 9, 5, 7, 6, 6, 11, 7, 3, 7, 3, 9, 2, 7, 5, 11], \"line\": {\"width\": 1}, \"type\": \"box\", \"whiskerwidth\": 0.2}, {\"name\": \"yedge\", \"marker\": {\"size\": 2}, \"y\": [6, 9, 5, 4, 3, 10, 6, 3, 5, 10, 5, 7, 3, 9, 6, 9], \"line\": {\"width\": 1}, \"type\": \"box\", \"whiskerwidth\": 0.2}, {\"name\": \"yegvx\", \"marker\": {\"size\": 2}, \"y\": [3, 4, 4, 3, 2, 8, 7, 7, 5, 7, 6, 8, 2, 8, 3, 8], \"line\": {\"width\": 1}, \"type\": \"box\", \"whiskerwidth\": 0.2}], {\"title\": \"Distributions of features\", \"margin\": {\"r\": 30, \"b\": 80, \"t\": 100, \"l\": 40}, \"yaxis\": {\"zeroline\": true, \"autorange\": true, \"dtick\": 5, \"showgrid\": true}}, {\"linkText\": \"Export to plot.ly\", \"showLink\": true})});</script>"
      ]
     },
     "metadata": {},
     "output_type": "display_data"
    }
   ],
   "source": [
    "import plotly.plotly as py\n",
    "import plotly.graph_objs as go\n",
    "from plotly.offline import download_plotlyjs, init_notebook_mode, plot, iplot\n",
    "\n",
    "init_notebook_mode(connected=True)\n",
    "x_data=names\n",
    "\n",
    "traces = []\n",
    "\n",
    "for xd, yd in zip(x_data,data):\n",
    "    traces.append(go.Box(y=yd,name=xd,whiskerwidth=.2,marker=dict(size=2,),line=dict(width=1),))\n",
    "\n",
    "layout=go.Layout(\n",
    "    title=\"Distributions of features\",yaxis=dict(autorange=True,showgrid=True,zeroline=True,dtick=5,),margin=dict(l=40,r=30,b=80,t=100),)\n",
    "\n",
    "fig = go.Figure(data=traces,layout=layout)\n",
    "iplot(fig)"
   ]
  },
  {
   "cell_type": "markdown",
   "metadata": {},
   "source": [
    "### Scores for all five algorithms"
   ]
  },
  {
   "cell_type": "code",
   "execution_count": 26,
   "metadata": {
    "collapsed": true
   },
   "outputs": [],
   "source": [
    "from bokeh.plotting import figure, output_file, show\n",
    "from bokeh.io import show, output_file\n",
    "\n",
    "# accuracies: (Hard coded values because it takes forever to run all the algorithms.s)\n",
    "x = [.879489706527,.955869469996,.87302890933,.733245729304,.949572930355]\n",
    "Names = ['Decision Tree', 'Random Forest','Gradient Boosting', 'Logistic Regression','K-Nearest Neighbors']\n",
    "\n",
    "# output to static HTML file\n",
    "output_file(\"bars.html\")\n",
    "\n",
    "# create a new plot with a title and axis labels\n",
    "p = figure(x_range = Names, plot_height = 250, title = \"Accuracies\")\n",
    "\n",
    "# add a line renderer with legend and line thickness\n",
    "p.vbar(x = Names, width=.9,  top = [.879489706527,.955869469996,.87302890933,.733245729304,0.949572930355])\n",
    "\n",
    "# show the results\n",
    "show(p)"
   ]
  },
  {
   "cell_type": "markdown",
   "metadata": {},
   "source": [
    "### Feature importances for Random Forest Classifier"
   ]
  },
  {
   "cell_type": "code",
   "execution_count": 49,
   "metadata": {
    "scrolled": true
   },
   "outputs": [
    {
     "name": "stdout",
     "output_type": "stream",
     "text": [
      "[0, 0, 0, 0, 0, 0, 0, 0, 0, 0, 0, 0, 0, 0, 0, 0]\n",
      "[('xbox', 0.019942741935878038), ('boxheight', 0.020786447138487766), ('boxwidth', 0.023395470263277849), ('ybox', 0.025194582646671189), ('onpix', 0.027068121535920142), ('xbar', 0.050693500510887265), ('yegvx', 0.054947508649886873), ('ybar', 0.070142348677425956), ('xegvy', 0.072038620283881832), ('xybar', 0.074020922099786543), ('x2bar', 0.081465390720043121), ('x2ybr', 0.082707438636524563), ('xy2br', 0.085619988300181762), ('y2bar', 0.091683126887383393), ('yedge', 0.10538770273601365), ('xedge', 0.11490608897775015)]\n"
     ]
    },
    {
     "data": {
      "text/plain": [
       "<matplotlib.axes._subplots.AxesSubplot at 0x20ecaa58>"
      ]
     },
     "execution_count": 49,
     "metadata": {},
     "output_type": "execute_result"
    },
    {
     "data": {
      "image/png": "[encoded data removed]",
      "text/plain": [
       "<matplotlib.figure.Figure at 0x1832dc50>"
      ]
     },
     "metadata": {},
     "output_type": "display_data"
    }
   ],
   "source": [
    "# for name, importance in zip(names,clf.feature_importances_):\n",
    "#     print(name,\"=\",importance)\n",
    "    \n",
    "# print zip(names,clf.feature_importances_)    \n",
    "\n",
    "importances = clf.feature_importances_\n",
    "# print importances\n",
    "indices = np.argsort(importances)\n",
    "\n",
    "# Sort importances and names by indices\n",
    "\n",
    "importancesSort = [0]*len(importances)\n",
    "print importancesSort\n",
    "i = 0\n",
    "for x in indices:\n",
    "    importancesSort[i]=importances[x]\n",
    "    i+=1\n",
    "\n",
    "namesSort=[0]*len(names)\n",
    "i = 0\n",
    "for x in indices:\n",
    "    namesSort[i]=names[x]\n",
    "    i+=1    \n",
    "\n",
    "import seaborn as sns\n",
    "import matplotlib.pyplot as plt\n",
    "sns.set(style=\"whitegrid\")\n",
    "\n",
    "importances = pd.DataFrame(zip(namesSort,importancesSort),columns=[\"feature\",\"importance\"])\n",
    "# print importances\n",
    "\n",
    "f, ax = plt.subplots(figsize=(6, 15))\n",
    "sns.set_color_codes(\"pastel\")\n",
    "sns.barplot(x=\"importance\", y=\"feature\", data=importances,\n",
    "            label=\"Total\", color=\"b\")"
   ]
  },
  {
   "cell_type": "markdown",
   "metadata": {},
   "source": [
    "### confusion matrix"
   ]
  },
  {
   "cell_type": "code",
   "execution_count": 63,
   "metadata": {
    "scrolled": true
   },
   "outputs": [
    {
     "name": "stdout",
     "output_type": "stream",
     "text": [
      "[(739, 'A'), (712, 'C'), (751, 'B'), (701, 'E'), (795, 'D'), (751, 'G'), (742, 'F'), (754, 'I'), (573, 'H'), (714, 'K'), (643, 'J'), (625, 'M'), (586, 'L'), (739, 'O'), (604, 'N'), (735, 'Q'), (768, 'P'), (705, 'S'), (743, 'R'), (638, 'U'), (726, 'T'), (653, 'W'), (741, 'V'), (751, 'Y'), (771, 'X'), (604, 'Z')]\n",
      "[<built-in method lower of str object at 0x0000000001CD2FA8>, <built-in method lower of str object at 0x0000000001D49B20>, <built-in method lower of str object at 0x0000000001CD2260>, <built-in method lower of str object at 0x0000000001CA81C0>, <built-in method lower of str object at 0x0000000001CB8530>, <built-in method lower of str object at 0x0000000001CA8378>, <built-in method lower of str object at 0x0000000001D36120>, <built-in method lower of str object at 0x0000000001D49058>, <built-in method lower of str object at 0x0000000001CA8B48>, <built-in method lower of str object at 0x0000000001D5AD00>, <built-in method lower of str object at 0x0000000001CB8AD0>]\n"
     ]
    },
    {
     "data": {
      "text/plain": [
       "<matplotlib.text.Text at 0x28788630>"
      ]
     },
     "execution_count": 63,
     "metadata": {},
     "output_type": "execute_result"
    },
    {
     "data": {
      "image/png": "[encoded data removed]",
      "text/plain": [
       "<matplotlib.figure.Figure at 0x28751748>"
      ]
     },
     "metadata": {},
     "output_type": "display_data"
    }
   ],
   "source": [
    "#confusion matrix\n",
    "from collections import Counter\n",
    "\n",
    "letters = [x.upper() for x in ['a','b','c','d','e','f','g','h','i','j','k']]\n",
    "print zip(Counter(target).values(),Counter(target).keys()) # counts the elements' frequency\n",
    "# a,d,m,n,p,q,t,u,x,y\n",
    "print [x.lower for x in ['a','b','c','d','e','f','g','h','i','j','k']]\n",
    "cm=confusion_matrix(testTarget,yhat,labels = letters)\n",
    "\n",
    "classes = ['a','b','c','d','e','f','g','h','i','j','k']\n",
    "# ,'k','l','m','n','o','p','q','r','s','t','u','v','w','x','y','z']\n",
    "\n",
    "plt.figure(figsize=(20,20))\n",
    "plt.imshow(cm, interpolation='nearest', cmap=plt.cm.Set3,)\n",
    "plt.title('Confusion Matrix')\n",
    "plt.colorbar()\n",
    "tick_marks = np.arange(len(classes))\n",
    "plt.xticks(tick_marks, classes, rotation=45)\n",
    "plt.yticks(tick_marks, classes)\n",
    "fmt = 'd'\n",
    "thresh = cm.max() / 2.\n",
    "for i, j in itertools.product(range(cm.shape[0]), range(cm.shape[1])):\n",
    "    plt.text(j, i, format(cm[i, j], fmt),horizontalalignment=\"center\",color=\"white\" if cm[i, j] > thresh else \"black\")\n",
    "plt.tight_layout()\n",
    "plt.ylabel('True label')\n",
    "plt.xlabel('Predicted label')\n",
    "\n"
   ]
  },
  {
   "cell_type": "code",
   "execution_count": null,
   "metadata": {
    "collapsed": true
   },
   "outputs": [],
   "source": []
  },
  {
   "cell_type": "code",
   "execution_count": null,
   "metadata": {
    "collapsed": true
   },
   "outputs": [],
   "source": []
  }
 ],
 "metadata": {
  "kernelspec": {
   "display_name": "Python 2",
   "language": "python",
   "name": "python2"
  },
  "language_info": {
   "codemirror_mode": {
    "name": "ipython",
    "version": 2
   },
   "file_extension": ".py",
   "mimetype": "text/x-python",
   "name": "python",
   "nbconvert_exporter": "python",
   "pygments_lexer": "ipython2",
   "version": "2.7.13"
  }
 },
 "nbformat": 4,
 "nbformat_minor": 2
}
